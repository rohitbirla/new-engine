{
  "nbformat": 4,
  "nbformat_minor": 0,
  "metadata": {
    "colab": {
      "name": "perceptron.ipynb",
      "provenance": [],
      "collapsed_sections": []
    },
    "kernelspec": {
      "name": "python3",
      "display_name": "Python 3"
    }
  },
  "cells": [
    {
      "cell_type": "markdown",
      "metadata": {
        "id": "huvCWDPcexyR"
      },
      "source": [
        "Implement of single layer perceptron"
      ]
    },
    {
      "cell_type": "code",
      "metadata": {
        "id": "BiLzmx5Yb77U"
      },
      "source": [
        "from numpy import exp, array, random, dot, tanh "
      ],
      "execution_count": 1,
      "outputs": []
    },
    {
      "cell_type": "code",
      "metadata": {
        "id": "96xM0FRTb8y5"
      },
      "source": [
        "class NeuralNetwork(): \r\n",
        "      \r\n",
        "    def __init__(self): \r\n",
        "          \r\n",
        "        random.seed(1) \r\n",
        "          \r\n",
        "        # 3x1 Weight matrix \r\n",
        "        self.weight_matrix = 2 * random.random((3, 1)) - 1\r\n",
        "  \r\n",
        "    # tanh as activation function \r\n",
        "    def tanh(self, x): \r\n",
        "        return tanh(x) \r\n",
        "  \r\n",
        "    \r\n",
        "    def tanh_derivative(self, x): \r\n",
        "        return 1.0 - tanh(x) ** 2\r\n",
        "  \r\n",
        "    # forward propagation \r\n",
        "    def forward_propagation(self, inputs): \r\n",
        "        return self.tanh(dot(inputs, self.weight_matrix)) \r\n",
        "      \r\n",
        "    # training the neural network. \r\n",
        "    def train(self, train_inputs, train_outputs, \r\n",
        "                            num_train_iterations): \r\n",
        "                                  \r\n",
        "        # Number of iterations we want to \r\n",
        "        # perform for this set of input. \r\n",
        "        for iteration in range(num_train_iterations): \r\n",
        "            output = self.forward_propagation(train_inputs) \r\n",
        "  \r\n",
        "            # Calculate the error in the output. \r\n",
        "            error = train_outputs - output \r\n",
        "   \r\n",
        "            adjustment = dot(train_inputs.T, error *\r\n",
        "                             self.tanh_derivative(output)) \r\n",
        "                               \r\n",
        "          \r\n",
        "            self.weight_matrix += adjustment "
      ],
      "execution_count": 3,
      "outputs": []
    },
    {
      "cell_type": "code",
      "metadata": {
        "colab": {
          "base_uri": "https://localhost:8080/",
          "height": 0
        },
        "id": "p3VChIHWcFex",
        "outputId": "ed323a30-6c59-4aaf-ffcb-7cbb86567766"
      },
      "source": [
        "if __name__ == \"__main__\": \r\n",
        "      \r\n",
        "    neural_network = NeuralNetwork() \r\n",
        "      \r\n",
        "    print ('Random weights at the start of training') \r\n",
        "    print (neural_network.weight_matrix) \r\n",
        "  \r\n",
        "    train_inputs = array([[1,2,3], [4,5,6], [7,8,9]]) \r\n",
        "    train_outputs = array([[0, 1, 1]]).T \r\n",
        "  \r\n",
        "    neural_network.train(train_inputs, train_outputs, 10000) \r\n",
        "  \r\n",
        "    print ('New weights after training') \r\n",
        "    print (neural_network.weight_matrix) \r\n",
        "  \r\n",
        "    # Test the neural network with a new situation. \r\n",
        "    print (\"Testing network on new examples ->\") \r\n",
        "    print (neural_network.forward_propagation(array([4,7,8]))) "
      ],
      "execution_count": 4,
      "outputs": [
        {
          "output_type": "stream",
          "text": [
            "Random weights at the start of training\n",
            "[[-0.16595599]\n",
            " [ 0.44064899]\n",
            " [-0.99977125]]\n",
            "New weights after training\n",
            "[[ 4.38816503]\n",
            " [ 1.79015   ]\n",
            " [-2.85489025]]\n",
            "Testing network on new examples ->\n",
            "[0.99999898]\n"
          ],
          "name": "stdout"
        }
      ]
    }
  ]
}
